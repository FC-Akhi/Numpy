{
 "cells": [
  {
   "cell_type": "markdown",
   "id": "6c9ef87b",
   "metadata": {},
   "source": [
    "## logo"
   ]
  },
  {
   "cell_type": "markdown",
   "id": "9b6daeb9",
   "metadata": {},
   "source": [
    "# Contents:"
   ]
  },
  {
   "cell_type": "markdown",
   "id": "f19ea016",
   "metadata": {},
   "source": [
    "will add later"
   ]
  },
  {
   "cell_type": "markdown",
   "id": "251fbcfe",
   "metadata": {},
   "source": [
    "### Why Numpy?\n",
    "\n",
    "NumPy (Numerical Python) is a library in Python that is used for scientific computing and data analysis. It provides a powerful N-dimensional array object for handling numerical data, as well as functions for performing mathematical operations on arrays.\n",
    "\n",
    "Here are a few reasons why NumPy is widely used:\n",
    "\n",
    "1. Efficient array computation: NumPy arrays allow for efficient computation of arrays, which is crucial for many scientific and data analysis tasks.\n",
    "\n",
    "2. Broadcasting: NumPy provides a convenient broadcasting mechanism for performing operations on arrays of different shapes.\n",
    "\n",
    "3. Mathematical functions: NumPy provides a large collection of mathematical functions for performing operations such as linear algebra, Fourier transforms, and random number generation.\n",
    "\n",
    "4. Interoperability: NumPy can be easily integrated with other scientific libraries such as Pandas, Matplotlib, and SciPy, making it a popular choice for data analysis and scientific computing tasks.\n",
    "\n",
    "Overall, NumPy is an essential tool for scientists, researchers, and data analysts, as it provides a high-performance and flexible platform for working with numerical data.\n",
    "\n",
    "It is similar to Pandas. Besides, Pandas library we will be using Numpy, plotly, matplotlib, seaborn & caply. All of these library will come together. One library can't do everything. Each and every library has its own purpose. Some could be used for mathematical operation, some can do manipulation operation, some can be used for graphical representation of our datasets. And when all of these library comes together and then we can do exploratory data analysis(EDA)\n",
    "\n",
    "\n",
    "**Difference between Pandas & Numpy**\n",
    "The main difference between Pandas and NumPy is that Pandas provides data structures and data analysis tools for handling and manipulating tabular data, while NumPy provides a powerful N-dimensional array object for numerical computations.\n",
    "\n",
    "NumPy is a library for numerical computations that provides arrays for handling and processing large amounts of numerical data.\n",
    "\n",
    "Pandas is a library built on top of NumPy that provides data structures and data analysis tools for working with tabular data, such as data stored in a spreadsheet or a SQL table. Pandas provides additional functionality for cleaning and transforming data, as well as for handling missing values and working with time series data.\n",
    "\n",
    "In short, NumPy is focused on numerical computations and arrays, while Pandas is focused on data analysis and manipulation of tabular data.\n",
    "\n",
    "\n",
    "**Numpy can't handle tabular data, Is it correct?**\n",
    "NumPy is primarily designed for numerical computations, it can also handle tabular data to some extent. For example, you can represent tabular data as a 2D array in NumPy and perform various mathematical operations on it.\n",
    "\n",
    "However, NumPy does not provide the same level of functionality for working with tabular data as Pandas does. For instance, NumPy does not have the same level of support for handling missing values, dealing with time series data, or merging and joining data from different sources. That's why Pandas is often used in conjunction with NumPy for data analysis tasks. Pandas provides a higher-level interface for working with tabular data, and NumPy provides the underlying numerical computation capabilities that make Pandas' data analysis functions efficient and fast.\n",
    "\n",
    "\n",
    "**More About numpy**\n",
    "DataFrame convert to matrices and vice versa. Why it is required?\n",
    "In CV, when I will try to process a image or a video, at the end of the day system never understands image or video. It will always convert it to numbers martices, and that will go through our model.\n",
    "**Numpy is will always convert data to a format which our system could understand. That doesnot mean it will convert data to binary it just convert data to an array or matrices**"
   ]
  },
  {
   "cell_type": "markdown",
   "id": "f8539170",
   "metadata": {},
   "source": [
    "## Import Libraries"
   ]
  },
  {
   "cell_type": "code",
   "execution_count": 1,
   "id": "afb82251",
   "metadata": {},
   "outputs": [
    {
     "name": "stdout",
     "output_type": "stream",
     "text": [
      "Requirement already satisfied: numpy in /home/mutant/python-projects/Ineuron_FSDS_2.0/py3env/lib/python3.7/site-packages (1.21.6)\n",
      "\n",
      "\u001b[1m[\u001b[0m\u001b[34;49mnotice\u001b[0m\u001b[1;39;49m]\u001b[0m\u001b[39;49m A new release of pip available: \u001b[0m\u001b[31;49m22.3.1\u001b[0m\u001b[39;49m -> \u001b[0m\u001b[32;49m23.0\u001b[0m\n",
      "\u001b[1m[\u001b[0m\u001b[34;49mnotice\u001b[0m\u001b[1;39;49m]\u001b[0m\u001b[39;49m To update, run: \u001b[0m\u001b[32;49mpip install --upgrade pip\u001b[0m\n"
     ]
    }
   ],
   "source": [
    "!pip install numpy\n",
    "!pip freeze > requirements.txt"
   ]
  },
  {
   "cell_type": "code",
   "execution_count": 16,
   "id": "4b8b893f",
   "metadata": {},
   "outputs": [],
   "source": [
    "# import libraries\n",
    "import numpy as np\n",
    "import pandas as pd"
   ]
  },
  {
   "cell_type": "markdown",
   "id": "249745ee",
   "metadata": {},
   "source": [
    "## 1. Create a list"
   ]
  },
  {
   "cell_type": "code",
   "execution_count": 3,
   "id": "3ebaae27",
   "metadata": {},
   "outputs": [],
   "source": [
    "# create a list\n",
    "l = [1, 2, 3, 4, 5]"
   ]
  },
  {
   "cell_type": "code",
   "execution_count": 4,
   "id": "0e1c4494",
   "metadata": {},
   "outputs": [
    {
     "data": {
      "text/plain": [
       "[1, 2, 3, 4, 5]"
      ]
     },
     "execution_count": 4,
     "metadata": {},
     "output_type": "execute_result"
    }
   ],
   "source": [
    "# show list\n",
    "l"
   ]
  },
  {
   "cell_type": "markdown",
   "id": "88d9cd66",
   "metadata": {},
   "source": [
    "## 2. Check type of list"
   ]
  },
  {
   "cell_type": "code",
   "execution_count": 5,
   "id": "e8171748",
   "metadata": {},
   "outputs": [
    {
     "data": {
      "text/plain": [
       "list"
      ]
     },
     "execution_count": 5,
     "metadata": {},
     "output_type": "execute_result"
    }
   ],
   "source": [
    "# type of list\n",
    "type(l)"
   ]
  },
  {
   "cell_type": "markdown",
   "id": "d11675f9",
   "metadata": {},
   "source": [
    "## 3. Convert list in to array using numpy"
   ]
  },
  {
   "cell_type": "code",
   "execution_count": 57,
   "id": "8bac9cc7",
   "metadata": {},
   "outputs": [],
   "source": [
    "# convert list into array\n",
    "data_numpy_arr_1 = np.array(l)"
   ]
  },
  {
   "cell_type": "code",
   "execution_count": 58,
   "id": "41a98ecf",
   "metadata": {},
   "outputs": [
    {
     "data": {
      "text/plain": [
       "array([1, 2, 3, 4, 5])"
      ]
     },
     "execution_count": 58,
     "metadata": {},
     "output_type": "execute_result"
    }
   ],
   "source": [
    "# show array\n",
    "data_numpy_arr_1"
   ]
  },
  {
   "cell_type": "markdown",
   "id": "359ccbec",
   "metadata": {},
   "source": [
    "## 4. Check type of numpy array"
   ]
  },
  {
   "cell_type": "code",
   "execution_count": 59,
   "id": "a69aca2e",
   "metadata": {},
   "outputs": [
    {
     "data": {
      "text/plain": [
       "numpy.ndarray"
      ]
     },
     "execution_count": 59,
     "metadata": {},
     "output_type": "execute_result"
    }
   ],
   "source": [
    "# check type\n",
    "type(data_numpy_arr_1)"
   ]
  },
  {
   "cell_type": "markdown",
   "id": "8edb73b5",
   "metadata": {},
   "source": [
    "#### Notes:\n",
    "- ndarray means n dimensional array"
   ]
  },
  {
   "cell_type": "markdown",
   "id": "a9958a3f",
   "metadata": {},
   "source": [
    "## 5. Create new numpy array"
   ]
  },
  {
   "cell_type": "code",
   "execution_count": 60,
   "id": "680ab33d",
   "metadata": {},
   "outputs": [],
   "source": [
    "# create new numpy array\n",
    "data_numpy_arr_2 = np.array([[1, 2, 3], [4, 5, 6]]) # passed list inside list"
   ]
  },
  {
   "cell_type": "code",
   "execution_count": 61,
   "id": "73e7cc28",
   "metadata": {},
   "outputs": [
    {
     "data": {
      "text/plain": [
       "array([[1, 2, 3],\n",
       "       [4, 5, 6]])"
      ]
     },
     "execution_count": 61,
     "metadata": {},
     "output_type": "execute_result"
    }
   ],
   "source": [
    "# show numpy array\n",
    "data_numpy_arr_2"
   ]
  },
  {
   "cell_type": "markdown",
   "id": "7119f52f",
   "metadata": {},
   "source": [
    "## 6. Does numpy array maintains symmetricity?"
   ]
  },
  {
   "cell_type": "code",
   "execution_count": 24,
   "id": "01523315",
   "metadata": {},
   "outputs": [],
   "source": [
    "# let's add one number to a list inside numpy array\n",
    "# data_numpy_arr_2 = np.array([[1, 2, 3], [4, 5, 6, 7]]) # uncomment and observe"
   ]
  },
  {
   "cell_type": "code",
   "execution_count": 33,
   "id": "568f1f5a",
   "metadata": {},
   "outputs": [],
   "source": [
    "# show numpy array\n",
    "# data_numpy_arr_2     # uncomment and observe"
   ]
  },
  {
   "cell_type": "markdown",
   "id": "8aabaa19",
   "metadata": {},
   "source": [
    "#### Notes:\n",
    "- We will receive a warning, numpy is telling \"Well it not the correct conversion I could do, as I believe in symmetricity\":)\n",
    "- So numpy will keep list as a list. It can't convert to an array"
   ]
  },
  {
   "cell_type": "markdown",
   "id": "19b147f3",
   "metadata": {},
   "source": [
    "## 7. Three layer list to numpy array"
   ]
  },
  {
   "cell_type": "code",
   "execution_count": 62,
   "id": "5ce408f9",
   "metadata": {},
   "outputs": [],
   "source": [
    "# convert list inside a list inside a list to numpy array\n",
    "data_numpy_arr_3 = np.array([[[1, 2, 3], [4, 5, 6]]])"
   ]
  },
  {
   "cell_type": "code",
   "execution_count": 63,
   "id": "5f4feba2",
   "metadata": {},
   "outputs": [
    {
     "data": {
      "text/plain": [
       "array([[[1, 2, 3],\n",
       "        [4, 5, 6]]])"
      ]
     },
     "execution_count": 63,
     "metadata": {},
     "output_type": "execute_result"
    }
   ],
   "source": [
    "# show numpy array\n",
    "data_numpy_arr_3"
   ]
  },
  {
   "cell_type": "markdown",
   "id": "975e874d",
   "metadata": {},
   "source": [
    "## 8. Let's check dimension of above arrays we created"
   ]
  },
  {
   "cell_type": "code",
   "execution_count": 64,
   "id": "e9e01aac",
   "metadata": {},
   "outputs": [
    {
     "data": {
      "text/plain": [
       "array([1, 2, 3, 4, 5])"
      ]
     },
     "execution_count": 64,
     "metadata": {},
     "output_type": "execute_result"
    }
   ],
   "source": [
    "# first array\n",
    "data_numpy_arr_1"
   ]
  },
  {
   "cell_type": "code",
   "execution_count": 65,
   "id": "2ab4367a",
   "metadata": {},
   "outputs": [
    {
     "data": {
      "text/plain": [
       "array([[1, 2, 3],\n",
       "       [4, 5, 6]])"
      ]
     },
     "execution_count": 65,
     "metadata": {},
     "output_type": "execute_result"
    }
   ],
   "source": [
    "# second array\n",
    "data_numpy_arr_2"
   ]
  },
  {
   "cell_type": "code",
   "execution_count": 41,
   "id": "8d5c1131",
   "metadata": {},
   "outputs": [
    {
     "data": {
      "text/plain": [
       "array([[[1, 2, 3],\n",
       "        [4, 5, 6]]])"
      ]
     },
     "execution_count": 41,
     "metadata": {},
     "output_type": "execute_result"
    }
   ],
   "source": [
    "# third array\n",
    "data_numpy_arr_3"
   ]
  },
  {
   "cell_type": "code",
   "execution_count": 42,
   "id": "8a5ec749",
   "metadata": {},
   "outputs": [
    {
     "data": {
      "text/plain": [
       "1"
      ]
     },
     "execution_count": 42,
     "metadata": {},
     "output_type": "execute_result"
    }
   ],
   "source": [
    "# check dimension of first array\n",
    "data_numpy_arr_1.ndim"
   ]
  },
  {
   "cell_type": "code",
   "execution_count": 66,
   "id": "2e8cae4d",
   "metadata": {},
   "outputs": [
    {
     "data": {
      "text/plain": [
       "2"
      ]
     },
     "execution_count": 66,
     "metadata": {},
     "output_type": "execute_result"
    }
   ],
   "source": [
    "# check dimension of second array\n",
    "data_numpy_arr_2.ndim"
   ]
  },
  {
   "cell_type": "code",
   "execution_count": 67,
   "id": "0cff1a30",
   "metadata": {},
   "outputs": [
    {
     "data": {
      "text/plain": [
       "3"
      ]
     },
     "execution_count": 67,
     "metadata": {},
     "output_type": "execute_result"
    }
   ],
   "source": [
    "# check dimension of third array\n",
    "data_numpy_arr_3.ndim"
   ]
  },
  {
   "cell_type": "markdown",
   "id": "01f6a200",
   "metadata": {},
   "source": [
    "#### Notes:\n",
    "#### **What is the meaning of 1, 2, 3 dimension we see above?**\n",
    "- "
   ]
  },
  {
   "cell_type": "markdown",
   "id": "da739da2",
   "metadata": {},
   "source": [
    "## Insert image here"
   ]
  },
  {
   "cell_type": "markdown",
   "id": "0bb2f703",
   "metadata": {},
   "source": [
    "## 9. Explore one more 3-D array"
   ]
  },
  {
   "cell_type": "code",
   "execution_count": 68,
   "id": "c3111ce9",
   "metadata": {},
   "outputs": [],
   "source": [
    "# create 3d array\n",
    "data_numpy_arr_4 = np.array([[[1, 2, 3], [4, 5, 6]], [[1, 2, 3], [4, 5, 6]], [[1, 2, 3], [4, 5, 6]]])"
   ]
  },
  {
   "cell_type": "code",
   "execution_count": 69,
   "id": "689d015c",
   "metadata": {},
   "outputs": [
    {
     "data": {
      "text/plain": [
       "array([[[1, 2, 3],\n",
       "        [4, 5, 6]],\n",
       "\n",
       "       [[1, 2, 3],\n",
       "        [4, 5, 6]],\n",
       "\n",
       "       [[1, 2, 3],\n",
       "        [4, 5, 6]]])"
      ]
     },
     "execution_count": 69,
     "metadata": {},
     "output_type": "execute_result"
    }
   ],
   "source": [
    "# show numpy array\n",
    "data_numpy_arr_4"
   ]
  },
  {
   "cell_type": "markdown",
   "id": "7ceca8c1",
   "metadata": {},
   "source": [
    "## Show with diagram\n",
    "diagram inspiration\n",
    "https://www.datacamp.com/tutorial/python-numpy-tutorial\n",
    "\n",
    "https://cs231n.github.io/python-numpy-tutorial/\n",
    "\n",
    "https://realpython.com/numpy-array-programming/"
   ]
  },
  {
   "cell_type": "code",
   "execution_count": 70,
   "id": "b080e883",
   "metadata": {},
   "outputs": [
    {
     "data": {
      "text/plain": [
       "3"
      ]
     },
     "execution_count": 70,
     "metadata": {},
     "output_type": "execute_result"
    }
   ],
   "source": [
    "# let's check dimension of above array again\n",
    "data_numpy_arr_4.ndim"
   ]
  },
  {
   "cell_type": "markdown",
   "id": "7bd0ca22",
   "metadata": {},
   "source": [
    "## 10. Let's see 4 dimensional array :)"
   ]
  },
  {
   "cell_type": "code",
   "execution_count": 71,
   "id": "f194e09c",
   "metadata": {},
   "outputs": [],
   "source": [
    "# create 4d array\n",
    "data_numpy_arr_5 = np.array([[[[1, 2, 3], [4, 5, 6]], [[1, 2, 3], [4, 5, 6]], [[1, 2, 3], [4, 5, 6]]]])"
   ]
  },
  {
   "cell_type": "code",
   "execution_count": 72,
   "id": "06d7c458",
   "metadata": {},
   "outputs": [
    {
     "data": {
      "text/plain": [
       "array([[[[1, 2, 3],\n",
       "         [4, 5, 6]],\n",
       "\n",
       "        [[1, 2, 3],\n",
       "         [4, 5, 6]],\n",
       "\n",
       "        [[1, 2, 3],\n",
       "         [4, 5, 6]]]])"
      ]
     },
     "execution_count": 72,
     "metadata": {},
     "output_type": "execute_result"
    }
   ],
   "source": [
    "# show numpy array\n",
    "data_numpy_arr_5"
   ]
  },
  {
   "cell_type": "code",
   "execution_count": 73,
   "id": "f7740b46",
   "metadata": {},
   "outputs": [
    {
     "data": {
      "text/plain": [
       "4"
      ]
     },
     "execution_count": 73,
     "metadata": {},
     "output_type": "execute_result"
    }
   ],
   "source": [
    "# let's check dimension of above array again\n",
    "data_numpy_arr_5.ndim"
   ]
  },
  {
   "cell_type": "markdown",
   "id": "8a01624e",
   "metadata": {},
   "source": [
    "#### Notes:\n",
    "- As we seen using numpy we can work with any dimension of array\n",
    "- Though we can't visualize array having 4th dimension or more, but yes we can work on it from mathematical paradigm"
   ]
  },
  {
   "cell_type": "markdown",
   "id": "7ebfe85a",
   "metadata": {},
   "source": [
    "## 11. Use of asarray to convert list to numpy arrray"
   ]
  },
  {
   "cell_type": "code",
   "execution_count": 55,
   "id": "64cfd90a",
   "metadata": {},
   "outputs": [],
   "source": [
    "# make a list\n",
    "l = [1, 2, 3, 4, 5]"
   ]
  },
  {
   "cell_type": "code",
   "execution_count": 74,
   "id": "2a81ad0a",
   "metadata": {},
   "outputs": [],
   "source": [
    "# use asarray to convert list to a numpy array\n",
    "data_numpy_arr_6 = np.asarray(l)"
   ]
  },
  {
   "cell_type": "code",
   "execution_count": 75,
   "id": "7d6f438d",
   "metadata": {},
   "outputs": [
    {
     "data": {
      "text/plain": [
       "array([1, 2, 3, 4, 5])"
      ]
     },
     "execution_count": 75,
     "metadata": {},
     "output_type": "execute_result"
    }
   ],
   "source": [
    "# show array\n",
    "data_numpy_arr_6"
   ]
  },
  {
   "cell_type": "code",
   "execution_count": 76,
   "id": "fe2a8ebd",
   "metadata": {},
   "outputs": [
    {
     "data": {
      "text/plain": [
       "numpy.ndarray"
      ]
     },
     "execution_count": 76,
     "metadata": {},
     "output_type": "execute_result"
    }
   ],
   "source": [
    "# see type\n",
    "type(data_numpy_arr_1)"
   ]
  },
  {
   "cell_type": "markdown",
   "id": "d88f1203",
   "metadata": {},
   "source": [
    "## 12. Convert list to matrix"
   ]
  },
  {
   "cell_type": "code",
   "execution_count": 77,
   "id": "9e7e9c5d",
   "metadata": {},
   "outputs": [],
   "source": [
    "# list to matrix\n",
    "data_numpy_mat_1 = np.matrix(l)"
   ]
  },
  {
   "cell_type": "code",
   "execution_count": 78,
   "id": "f87ffa68",
   "metadata": {},
   "outputs": [
    {
     "data": {
      "text/plain": [
       "matrix([[1, 2, 3, 4, 5]])"
      ]
     },
     "execution_count": 78,
     "metadata": {},
     "output_type": "execute_result"
    }
   ],
   "source": [
    "# show matrix\n",
    "data_numpy_mat_1"
   ]
  },
  {
   "cell_type": "code",
   "execution_count": 79,
   "id": "af65d0b0",
   "metadata": {},
   "outputs": [
    {
     "data": {
      "text/plain": [
       "numpy.matrix"
      ]
     },
     "execution_count": 79,
     "metadata": {},
     "output_type": "execute_result"
    }
   ],
   "source": [
    "# type of matrix\n",
    "type(data_numpy_mat_1)"
   ]
  },
  {
   "cell_type": "markdown",
   "id": "c7940656",
   "metadata": {},
   "source": [
    "## 13. What is the difference between numpy array and matrix?"
   ]
  },
  {
   "cell_type": "markdown",
   "id": "e0d39ce3",
   "metadata": {},
   "source": [
    "#### Difference between numpy array & matrix\n",
    "- **Array could have minimum 1 dimension while matrix should have minimum 2 dimension**\n",
    "\n",
    "Numpy arrays and matrices are both data structures in the Python programming language used to store and manipulate numerical data, but they are different in a number of ways.\n",
    "A numpy array is a multi-dimensional, homogeneous, and flexible data structure that can hold any data type. It is an extension of the Python list data structure and can be used for more complex mathematical operations. For example:\n",
    "\n",
    "\n",
    "A matrix, on the other hand, is a two-dimensional data structure specifically designed for linear algebra operations. It is part of the numpy library, but it is represented as a subclass of numpy arrays. For example:\n",
    "\n",
    "\n",
    "The main difference between numpy arrays and matrices is that matrices are more restricted in terms of the operations that can be performed on them and are specifically optimized for linear algebra computations, while numpy arrays are more flexible and can be used for a wider range of operations. However, due to the restrictions on matrices, they are generally slower than numpy arrays for most operations.\n",
    "\n",
    "In general, it is recommended to use numpy arrays rather than matrices, as they are more versatile and faster, and the same linear algebra operations can be performed on numpy arrays by calling functions from the **`numpy.linalg`** module.\n",
    "\n",
    "- Array is the super class and Matrix is a part of array"
   ]
  },
  {
   "cell_type": "markdown",
   "id": "5d0767a6",
   "metadata": {},
   "source": [
    "## 14. How to use asanyarray?"
   ]
  },
  {
   "cell_type": "code",
   "execution_count": 80,
   "id": "1cd8c577",
   "metadata": {},
   "outputs": [
    {
     "data": {
      "text/plain": [
       "[1, 2, 3, 4, 5]"
      ]
     },
     "execution_count": 80,
     "metadata": {},
     "output_type": "execute_result"
    }
   ],
   "source": [
    "# let's take a list from above somewhere\n",
    "l"
   ]
  },
  {
   "cell_type": "code",
   "execution_count": 81,
   "id": "74262d1d",
   "metadata": {},
   "outputs": [
    {
     "data": {
      "text/plain": [
       "array([1, 2, 3, 4, 5])"
      ]
     },
     "execution_count": 81,
     "metadata": {},
     "output_type": "execute_result"
    }
   ],
   "source": [
    "# let's take one of the array from above\n",
    "data_numpy_arr_1"
   ]
  },
  {
   "cell_type": "code",
   "execution_count": 82,
   "id": "b4409fec",
   "metadata": {},
   "outputs": [
    {
     "data": {
      "text/plain": [
       "matrix([[1, 2, 3, 4, 5]])"
      ]
     },
     "execution_count": 82,
     "metadata": {},
     "output_type": "execute_result"
    }
   ],
   "source": [
    "# let's take matrix from above\n",
    "data_numpy_mat_1"
   ]
  },
  {
   "cell_type": "code",
   "execution_count": 83,
   "id": "dc47367b",
   "metadata": {},
   "outputs": [
    {
     "data": {
      "text/plain": [
       "array([1, 2, 3, 4, 5])"
      ]
     },
     "execution_count": 83,
     "metadata": {},
     "output_type": "execute_result"
    }
   ],
   "source": [
    "# use asanyarray with list\n",
    "np.asanyarray(l)"
   ]
  },
  {
   "cell_type": "code",
   "execution_count": 84,
   "id": "ee88bea8",
   "metadata": {},
   "outputs": [
    {
     "data": {
      "text/plain": [
       "array([1, 2, 3, 4, 5])"
      ]
     },
     "execution_count": 84,
     "metadata": {},
     "output_type": "execute_result"
    }
   ],
   "source": [
    "# use asanyarray with array\n",
    "np.asanyarray(data_numpy_arr_1)"
   ]
  },
  {
   "cell_type": "code",
   "execution_count": 85,
   "id": "c988ba76",
   "metadata": {},
   "outputs": [
    {
     "data": {
      "text/plain": [
       "matrix([[1, 2, 3, 4, 5]])"
      ]
     },
     "execution_count": 85,
     "metadata": {},
     "output_type": "execute_result"
    }
   ],
   "source": [
    "# use asanyarray with matrix\n",
    "np.asanyarray(data_numpy_mat_1)"
   ]
  },
  {
   "cell_type": "markdown",
   "id": "a7ebba6c",
   "metadata": {},
   "source": [
    "#### Notes:\n",
    "- What usually asanyarray does?\n",
    "    - asanyarray will always convert dataset to an array. And as we know matrix is a part of array. So, let's keep it in mind\n",
    "    - When we use **np.asanyarray(l)** it will check whether l is array or matrix, if not it will convert it to array \n",
    "    - When we use **np.asanyarray(data_numpy_arr_1)** it will check whether data_numpy_arr_1 is array or matrix, if yes it will keep as it is \n",
    "    - When we use **np.asanyarray(data_numpy_mat_1)** it will check whether data_numpy_mat_1 is array or matrix, if yes it will keep as it \n",
    "    \n",
    "\"numpy.asarray\" is a function in the NumPy library for Python that converts input data (such as a list, tuple, or another array) into a NumPy array."
   ]
  },
  {
   "cell_type": "markdown",
   "id": "b7439b08",
   "metadata": {},
   "source": [
    "## 15. What is the difference between shallow and deep copy?"
   ]
  },
  {
   "cell_type": "markdown",
   "id": "9565ae32",
   "metadata": {},
   "source": [
    "- Deep copy points to different memory\n",
    "- Shallow copy points to same memory\n",
    "\n",
    "In the context of the NumPy library in Python, \"deep copy\" and \"shallow copy\" refer to the way arrays are copied in memory.\n",
    "\n",
    "A \"deep copy\" creates a new array in memory that is completely separate from the original array, and contains all its data. Any changes made to the copied array do not affect the original array, and vice versa. In NumPy, you can create a deep copy using the copy method, like this:"
   ]
  },
  {
   "cell_type": "code",
   "execution_count": 86,
   "id": "e78f2d1d",
   "metadata": {},
   "outputs": [
    {
     "name": "stdout",
     "output_type": "stream",
     "text": [
      "[1 2 3]\n",
      "[100   2   3]\n"
     ]
    }
   ],
   "source": [
    "a = np.array([1, 2, 3])\n",
    "b = a.copy()\n",
    "b[0] = 100\n",
    "print(a) # [1, 2, 3]\n",
    "print(b) # [100, 2, 3]"
   ]
  },
  {
   "cell_type": "markdown",
   "id": "804981ee",
   "metadata": {},
   "source": [
    "A \"shallow copy\", on the other hand, creates a new array that references the same data in memory as the original array. This means that changes made to the copied array will affect the original array, and vice versa. In NumPy, you can create a shallow copy by simply assigning the original array to a new variable, like this:"
   ]
  },
  {
   "cell_type": "code",
   "execution_count": 87,
   "id": "96fffcff",
   "metadata": {},
   "outputs": [
    {
     "name": "stdout",
     "output_type": "stream",
     "text": [
      "[100   2   3]\n",
      "[100   2   3]\n"
     ]
    }
   ],
   "source": [
    "a = np.array([1, 2, 3])\n",
    "b = a\n",
    "b[0] = 100\n",
    "print(a) # [100, 2, 3]\n",
    "print(b) # [100, 2, 3]"
   ]
  },
  {
   "cell_type": "markdown",
   "id": "e2b049be",
   "metadata": {},
   "source": [
    "It is important to understand the difference between deep and shallow copies when \n",
    "working with arrays in NumPy, as it can have a significant impact on the behavior of your code."
   ]
  },
  {
   "cell_type": "markdown",
   "id": "3bfb9c8e",
   "metadata": {},
   "source": [
    "## 16. What is fromfunction?"
   ]
  },
  {
   "cell_type": "markdown",
   "id": "b5da3b84",
   "metadata": {},
   "source": [
    "#### Notes:\n",
    "- fromfunction is a method by which we can generate a dataset by writing our own custom function"
   ]
  },
  {
   "cell_type": "markdown",
   "id": "a0ddf679",
   "metadata": {},
   "source": [
    "## 17. How to use fromfunction?"
   ]
  },
  {
   "cell_type": "code",
   "execution_count": 88,
   "id": "1ba87266",
   "metadata": {},
   "outputs": [
    {
     "data": {
      "text/plain": [
       "array([[ True, False, False, False],\n",
       "       [False,  True, False, False],\n",
       "       [False, False,  True, False]])"
      ]
     },
     "execution_count": 88,
     "metadata": {},
     "output_type": "execute_result"
    }
   ],
   "source": [
    "# use fromfunction and generate 2d array\n",
    "np.fromfunction(lambda x, y : x == y, (3,4)) # it will generate 2d array. \n",
    "                                             # We are using lambda here to write custom function\n",
    "                                             # See visuals on how it is generating 2d array"
   ]
  },
  {
   "cell_type": "code",
   "execution_count": 93,
   "id": "36c059b5",
   "metadata": {},
   "outputs": [
    {
     "data": {
      "text/plain": [
       "array([[[0., 1., 2.],\n",
       "        [1., 2., 3.],\n",
       "        [2., 3., 4.]],\n",
       "\n",
       "       [[1., 2., 3.],\n",
       "        [2., 3., 4.],\n",
       "        [3., 4., 5.]],\n",
       "\n",
       "       [[2., 3., 4.],\n",
       "        [3., 4., 5.],\n",
       "        [4., 5., 6.]]])"
      ]
     },
     "execution_count": 93,
     "metadata": {},
     "output_type": "execute_result"
    }
   ],
   "source": [
    "# let's generate 3d array\n",
    "np.fromfunction(lambda i, j, k: i + j + k, (3, 3, 3))"
   ]
  },
  {
   "cell_type": "markdown",
   "id": "37a1f305",
   "metadata": {},
   "source": [
    "#### Notes:\n",
    "- We does not use fromfunction to generate dataset that much\n",
    "- But, there is another method called rand() which is used most of the case to generate random dataset array."
   ]
  },
  {
   "cell_type": "markdown",
   "id": "a04ce6ce",
   "metadata": {},
   "source": [
    "## insert image on how its generating 2d array"
   ]
  },
  {
   "cell_type": "markdown",
   "id": "e9ef81c8",
   "metadata": {},
   "source": [
    "## 18. How to generate data using random.rand()?"
   ]
  },
  {
   "cell_type": "code",
   "execution_count": 95,
   "id": "2033b53f",
   "metadata": {},
   "outputs": [
    {
     "data": {
      "text/plain": [
       "array([[0.43929203, 0.56609443, 0.4921848 ],\n",
       "       [0.15997328, 0.69414351, 0.65330024]])"
      ]
     },
     "execution_count": 95,
     "metadata": {},
     "output_type": "execute_result"
    }
   ],
   "source": [
    "# generate 2d array/dataset using rand() \n",
    "np.random.rand(2, 3) # 3 = no. of rows, 2 = no. of columns"
   ]
  },
  {
   "cell_type": "code",
   "execution_count": 98,
   "id": "a6c342ea",
   "metadata": {},
   "outputs": [
    {
     "data": {
      "text/plain": [
       "array([[[0.08492249, 0.9163864 ],\n",
       "        [0.78242312, 0.89620466],\n",
       "        [0.78501237, 0.84977468]],\n",
       "\n",
       "       [[0.23734191, 0.23899339],\n",
       "        [0.44424981, 0.80864553],\n",
       "        [0.75820786, 0.0347056 ]]])"
      ]
     },
     "execution_count": 98,
     "metadata": {},
     "output_type": "execute_result"
    }
   ],
   "source": [
    "# generate 3d array/dataset using rand() \n",
    "np.random.rand(2, 3, 2) # 2 = number of arrays, 3 = no. of rows, 2 = no. of columns"
   ]
  },
  {
   "cell_type": "code",
   "execution_count": 99,
   "id": "7c896443",
   "metadata": {},
   "outputs": [
    {
     "data": {
      "text/plain": [
       "array([[[[0.36565006, 0.44206064],\n",
       "         [0.78311907, 0.57522479]],\n",
       "\n",
       "        [[0.44739661, 0.69046621],\n",
       "         [0.91444472, 0.27519184]],\n",
       "\n",
       "        [[0.10746166, 0.42088268],\n",
       "         [0.73633907, 0.54081281]]],\n",
       "\n",
       "\n",
       "       [[[0.99464982, 0.51145782],\n",
       "         [0.58276168, 0.01188157]],\n",
       "\n",
       "        [[0.24800436, 0.09733106],\n",
       "         [0.73335934, 0.89524146]],\n",
       "\n",
       "        [[0.42958487, 0.64514959],\n",
       "         [0.82033948, 0.67090892]]]])"
      ]
     },
     "execution_count": 99,
     "metadata": {},
     "output_type": "execute_result"
    }
   ],
   "source": [
    "# generate 4d array/dataset using rand() \n",
    "np.random.rand(2, 3, 2, 2) # 2 = no. of arrays which has (2 = no of arrays, 3 = no. of rows, 2 = no. of columns)"
   ]
  },
  {
   "cell_type": "markdown",
   "id": "45ae28e3",
   "metadata": {},
   "source": [
    "## 19. How to generate data using random.randn()?"
   ]
  },
  {
   "cell_type": "code",
   "execution_count": 100,
   "id": "761060d4",
   "metadata": {},
   "outputs": [
    {
     "data": {
      "text/plain": [
       "array([[0.54343014, 0.91825908, 0.13109216],\n",
       "       [0.77388551, 0.55222911, 0.19960712]])"
      ]
     },
     "execution_count": 100,
     "metadata": {},
     "output_type": "execute_result"
    }
   ],
   "source": [
    "# generate 2d array/dataset using randn() \n",
    "np.random.rand(2, 3) # 3 = no. of rows, 2 = no. of columns"
   ]
  },
  {
   "cell_type": "markdown",
   "id": "fc166cd8",
   "metadata": {},
   "source": [
    "#### Notes:\n",
    "- It will generate data based on standard normal distribution"
   ]
  },
  {
   "cell_type": "markdown",
   "id": "2e406170",
   "metadata": {},
   "source": [
    "## 20. How to generate data using random.randint()?"
   ]
  },
  {
   "cell_type": "code",
   "execution_count": 111,
   "id": "aedb53e2",
   "metadata": {},
   "outputs": [
    {
     "data": {
      "text/plain": [
       "array([[4, 0, 4, 3],\n",
       "       [0, 3, 0, 1],\n",
       "       [4, 2, 0, 4],\n",
       "       [4, 4, 3, 0]])"
      ]
     },
     "execution_count": 111,
     "metadata": {},
     "output_type": "execute_result"
    }
   ],
   "source": [
    "# generate 2d array/dataset using randint() \n",
    "np.random.randint(0, 5, (4, 4)) # it will give random value between 0 to 5 range, and size of array will be 4 by 4"
   ]
  },
  {
   "cell_type": "markdown",
   "id": "2cd68843",
   "metadata": {},
   "source": [
    "## 21. Real life use cases, When to use rand(), randn() & randint()?"
   ]
  },
  {
   "cell_type": "code",
   "execution_count": 112,
   "id": "8461e779",
   "metadata": {},
   "outputs": [],
   "source": [
    "# ask chat"
   ]
  },
  {
   "cell_type": "markdown",
   "id": "f54c8405",
   "metadata": {},
   "source": [
    "## 22. Convert numpy array to DataFrame?"
   ]
  },
  {
   "cell_type": "code",
   "execution_count": 117,
   "id": "b1b5e5e0",
   "metadata": {},
   "outputs": [],
   "source": [
    "# create numpy array\n",
    "data_np_rand_1 = np.random.randn(3, 4)"
   ]
  },
  {
   "cell_type": "code",
   "execution_count": 118,
   "id": "805b3089",
   "metadata": {},
   "outputs": [],
   "source": [
    "# convert numpy array to DataFrame\n",
    "data_df_1 = pd.DataFrame(data_np_rand_1)"
   ]
  },
  {
   "cell_type": "code",
   "execution_count": 119,
   "id": "5b8a035b",
   "metadata": {},
   "outputs": [
    {
     "data": {
      "text/html": [
       "<div>\n",
       "<style scoped>\n",
       "    .dataframe tbody tr th:only-of-type {\n",
       "        vertical-align: middle;\n",
       "    }\n",
       "\n",
       "    .dataframe tbody tr th {\n",
       "        vertical-align: top;\n",
       "    }\n",
       "\n",
       "    .dataframe thead th {\n",
       "        text-align: right;\n",
       "    }\n",
       "</style>\n",
       "<table border=\"1\" class=\"dataframe\">\n",
       "  <thead>\n",
       "    <tr style=\"text-align: right;\">\n",
       "      <th></th>\n",
       "      <th>0</th>\n",
       "      <th>1</th>\n",
       "      <th>2</th>\n",
       "      <th>3</th>\n",
       "    </tr>\n",
       "  </thead>\n",
       "  <tbody>\n",
       "    <tr>\n",
       "      <th>0</th>\n",
       "      <td>-0.797158</td>\n",
       "      <td>0.714729</td>\n",
       "      <td>1.222654</td>\n",
       "      <td>1.594559</td>\n",
       "    </tr>\n",
       "    <tr>\n",
       "      <th>1</th>\n",
       "      <td>-0.139806</td>\n",
       "      <td>-0.771108</td>\n",
       "      <td>0.848797</td>\n",
       "      <td>-1.155295</td>\n",
       "    </tr>\n",
       "    <tr>\n",
       "      <th>2</th>\n",
       "      <td>-1.318711</td>\n",
       "      <td>0.274564</td>\n",
       "      <td>0.627093</td>\n",
       "      <td>0.392490</td>\n",
       "    </tr>\n",
       "  </tbody>\n",
       "</table>\n",
       "</div>"
      ],
      "text/plain": [
       "          0         1         2         3\n",
       "0 -0.797158  0.714729  1.222654  1.594559\n",
       "1 -0.139806 -0.771108  0.848797 -1.155295\n",
       "2 -1.318711  0.274564  0.627093  0.392490"
      ]
     },
     "execution_count": 119,
     "metadata": {},
     "output_type": "execute_result"
    }
   ],
   "source": [
    "# show DataFrame\n",
    "data_df_1"
   ]
  },
  {
   "cell_type": "markdown",
   "id": "d71b31c2",
   "metadata": {},
   "source": [
    "#### 22.1Q: As we know, we can work n dimensional data using numpy & pandas can't work on data more than 2d, Now what if we generate 4 dimensional numpy array and want to convert to a DataFrame, then how could we do that? Let's see how to solve this problem."
   ]
  },
  {
   "cell_type": "markdown",
   "id": "91d7e8b8",
   "metadata": {},
   "source": [
    "## 23. Try to convert 3D numpy array to DataFrame"
   ]
  },
  {
   "cell_type": "code",
   "execution_count": 120,
   "id": "e696e1a7",
   "metadata": {},
   "outputs": [],
   "source": [
    "# create numpy array\n",
    "data_np_rand_2 = np.random.randint(0, 4, (4, 4, 2))"
   ]
  },
  {
   "cell_type": "code",
   "execution_count": 122,
   "id": "3d2a868e",
   "metadata": {},
   "outputs": [],
   "source": [
    "# convert numpy array to DataFrame\n",
    "# data_df_2 = pd.DataFrame(data_np_rand_2) # it will give us an error"
   ]
  },
  {
   "cell_type": "markdown",
   "id": "9a3d409b",
   "metadata": {},
   "source": [
    "#### Notes:\n",
    "- To solve above problem, there is called **reshape** function which will come in rescue. Let's see how:)"
   ]
  },
  {
   "cell_type": "markdown",
   "id": "4004e9ab",
   "metadata": {},
   "source": [
    "## 24. Convert 3D numpy array to DataFrame using reshape function"
   ]
  },
  {
   "cell_type": "code",
   "execution_count": 123,
   "id": "f39a2123",
   "metadata": {},
   "outputs": [
    {
     "data": {
      "text/plain": [
       "array([[[2, 0],\n",
       "        [2, 0],\n",
       "        [1, 3],\n",
       "        [0, 1]],\n",
       "\n",
       "       [[3, 2],\n",
       "        [0, 2],\n",
       "        [0, 2],\n",
       "        [3, 3]],\n",
       "\n",
       "       [[0, 1],\n",
       "        [0, 3],\n",
       "        [1, 3],\n",
       "        [3, 2]],\n",
       "\n",
       "       [[3, 1],\n",
       "        [1, 3],\n",
       "        [3, 2],\n",
       "        [1, 3]]])"
      ]
     },
     "execution_count": 123,
     "metadata": {},
     "output_type": "execute_result"
    }
   ],
   "source": [
    "# show numpy dataset from previous\n",
    "data_np_rand_2"
   ]
  },
  {
   "cell_type": "markdown",
   "id": "7efb812e",
   "metadata": {},
   "source": [
    "#### Notes:\n",
    "- Original info will change\n",
    "- To reshape data_np_rand_2, first we need to calculate how many elements are there in this numpy array. Let's see how many\n",
    "\n",
    "data_np_rand_2 = np.random.randint(0, 4, (**4, 4, 2**))\n",
    "\n",
    "- There are (4, 4, 2) = 4 * 4 * 2 = 32 elements. So while reshaping we must give dimension again and make sure DataFrame should have capacity to hold 32 elements. For example; 4 * 8 = 32. Here we will take 4 as number of rows and 8 as number of columns. Let's reshape now."
   ]
  },
  {
   "cell_type": "code",
   "execution_count": 125,
   "id": "01fbe998",
   "metadata": {},
   "outputs": [
    {
     "data": {
      "text/plain": [
       "array([[2, 0, 2, 0, 1, 3, 0, 1],\n",
       "       [3, 2, 0, 2, 0, 2, 3, 3],\n",
       "       [0, 1, 0, 3, 1, 3, 3, 2],\n",
       "       [3, 1, 1, 3, 3, 2, 1, 3]])"
      ]
     },
     "execution_count": 125,
     "metadata": {},
     "output_type": "execute_result"
    }
   ],
   "source": [
    "# reshape 3d numpy array to DataFrame\n",
    "data_np_rand_2.reshape(4, 8)"
   ]
  },
  {
   "cell_type": "code",
   "execution_count": 128,
   "id": "4cacc7fc",
   "metadata": {},
   "outputs": [
    {
     "data": {
      "text/plain": [
       "array([[2, 0, 2, 0],\n",
       "       [1, 3, 0, 1],\n",
       "       [3, 2, 0, 2],\n",
       "       [0, 2, 3, 3],\n",
       "       [0, 1, 0, 3],\n",
       "       [1, 3, 3, 2],\n",
       "       [3, 1, 1, 3],\n",
       "       [3, 2, 1, 3]])"
      ]
     },
     "execution_count": 128,
     "metadata": {},
     "output_type": "execute_result"
    }
   ],
   "source": [
    "# for say we have a dimension missing, like we don't know how many column will be there. In such case try this\n",
    "data_np_rand_2.reshape(8, -1) "
   ]
  },
  {
   "cell_type": "markdown",
   "id": "66a852aa",
   "metadata": {},
   "source": [
    "#### Notes:\n",
    "- -1 represents whatever dimension is missing system will automatically figure out\n",
    "- But, we should give one known dimension\n",
    "\n",
    "\n",
    "\n",
    "#### Use case of reeshape\n",
    "- Conversion of colorful image to greyscale"
   ]
  },
  {
   "cell_type": "markdown",
   "id": "fdd07974",
   "metadata": {},
   "source": [
    "## 25. What does range() do?"
   ]
  },
  {
   "cell_type": "code",
   "execution_count": 5,
   "id": "e6ed3ce2",
   "metadata": {},
   "outputs": [
    {
     "data": {
      "text/plain": [
       "range(0, 10)"
      ]
     },
     "execution_count": 5,
     "metadata": {},
     "output_type": "execute_result"
    }
   ],
   "source": [
    "# range()\n",
    "range(0, 10, 1)"
   ]
  },
  {
   "cell_type": "markdown",
   "id": "cc88a088",
   "metadata": {},
   "source": [
    "#### Notes:\n",
    "- range() is a generator function. Which will keep on generating numbers from the range we give.\n",
    "- The job of range() is to generate the numbers based on the upper and lower bound. Here, upper bound is 10 and lower bound is 0. And step = 1\n",
    "- In case of range() we can only generate integer number. range() function can only able to take only integer as upper or lower bound"
   ]
  },
  {
   "cell_type": "code",
   "execution_count": 7,
   "id": "d2353af7",
   "metadata": {},
   "outputs": [
    {
     "data": {
      "text/plain": [
       "[0, 1, 2, 3, 4, 5, 6, 7, 8, 9]"
      ]
     },
     "execution_count": 7,
     "metadata": {},
     "output_type": "execute_result"
    }
   ],
   "source": [
    "# let's call range function inside a list\n",
    "list(range(0, 10, 1))"
   ]
  },
  {
   "cell_type": "code",
   "execution_count": 9,
   "id": "cee6a529",
   "metadata": {
    "scrolled": true
   },
   "outputs": [
    {
     "data": {
      "text/plain": [
       "[0, 1, 2, 3, 4, 5, 6, 7, 8, 9]"
      ]
     },
     "execution_count": 9,
     "metadata": {},
     "output_type": "execute_result"
    }
   ],
   "source": [
    "# by default bounds\n",
    "list(range(10)) # by default lower bound is 0 and step = 1 "
   ]
  },
  {
   "cell_type": "markdown",
   "id": "b7caa53b",
   "metadata": {},
   "source": [
    "#### 25.1.Q: As range () could only generate integer numbers, How could we generate floating point number?"
   ]
  },
  {
   "cell_type": "markdown",
   "id": "3088c403",
   "metadata": {},
   "source": [
    "## 26. How to generate floating point numbers?"
   ]
  },
  {
   "cell_type": "code",
   "execution_count": 14,
   "id": "66b839df",
   "metadata": {},
   "outputs": [],
   "source": [
    "# let's try with range()\n",
    "# list(range(10.5)) # uncomment and observe the error"
   ]
  },
  {
   "cell_type": "code",
   "execution_count": 19,
   "id": "45a4c3bc",
   "metadata": {},
   "outputs": [
    {
     "data": {
      "text/plain": [
       "array([0.5, 1.5, 2.5, 3.5, 4.5, 5.5, 6.5, 7.5, 8.5, 9.5])"
      ]
     },
     "execution_count": 19,
     "metadata": {},
     "output_type": "execute_result"
    }
   ],
   "source": [
    "# there is function named as arange()\n",
    "np.arange(.5, 10)"
   ]
  },
  {
   "cell_type": "markdown",
   "id": "86472986",
   "metadata": {},
   "source": [
    "#### Voila!!!"
   ]
  },
  {
   "cell_type": "code",
   "execution_count": 21,
   "id": "dacca2bc",
   "metadata": {},
   "outputs": [
    {
     "data": {
      "text/plain": [
       "array([ 5,  4,  3,  2,  1,  0, -1, -2, -3])"
      ]
     },
     "execution_count": 21,
     "metadata": {},
     "output_type": "execute_result"
    }
   ],
   "source": [
    "# let's try with different range\n",
    "np.arange(5, -4, -1) # it can also generate number from negative axis"
   ]
  },
  {
   "cell_type": "code",
   "execution_count": 22,
   "id": "9503b8ff",
   "metadata": {},
   "outputs": [
    {
     "data": {
      "text/plain": [
       "array([ 5. ,  4.5,  4. ,  3.5,  3. ,  2.5,  2. ,  1.5,  1. ,  0.5,  0. ,\n",
       "       -0.5, -1. , -1.5, -2. , -2.5, -3. , -3.5])"
      ]
     },
     "execution_count": 22,
     "metadata": {},
     "output_type": "execute_result"
    }
   ],
   "source": [
    "# let's try with different range with fraction jump or step value\n",
    "np.arange(5, -4, -.5)"
   ]
  },
  {
   "cell_type": "markdown",
   "id": "54d63ef4",
   "metadata": {},
   "source": [
    "## 26. How to create generator function using yield?"
   ]
  },
  {
   "cell_type": "markdown",
   "id": "3c855caf",
   "metadata": {},
   "source": [
    "#### Notes:\n",
    "A generator function is a special type of function that returns a generator iterator. You can create a generator function using the yield statement. The yield statement is used to return a value from the function and suspend its execution. The function can later be resumed from where it left off.\n",
    "\n",
    "When we try to generate say 100s of element instead of preparing whole list of element and then giving the output or finally return results, we keep yielding the results one after other"
   ]
  },
  {
   "cell_type": "code",
   "execution_count": 23,
   "id": "629ad6d2",
   "metadata": {},
   "outputs": [],
   "source": [
    "# create fibonacci series using yield \n",
    "def fibonacci_sequence(n):\n",
    "    \n",
    "    a, b = 0, 1\n",
    "    for i in range(n):\n",
    "        yield a\n",
    "        a, b = b, a + b"
   ]
  },
  {
   "cell_type": "code",
   "execution_count": 24,
   "id": "7dbef044",
   "metadata": {},
   "outputs": [
    {
     "name": "stdout",
     "output_type": "stream",
     "text": [
      "[0, 1, 1, 2, 3, 5, 8, 13, 21, 34]\n"
     ]
    }
   ],
   "source": [
    "fib = fibonacci_sequence(10)\n",
    "print(list(fib))"
   ]
  },
  {
   "attachments": {},
   "cell_type": "markdown",
   "id": "fa10ccdc",
   "metadata": {},
   "source": [
    "## 27. How to divide a number scale/line into n divisions?\n",
    "insert the questions visual here"
   ]
  },
  {
   "cell_type": "code",
   "execution_count": 28,
   "id": "bf477090",
   "metadata": {},
   "outputs": [
    {
     "data": {
      "text/plain": [
       "array([0.        , 0.55555556, 1.11111111, 1.66666667, 2.22222222,\n",
       "       2.77777778, 3.33333333, 3.88888889, 4.44444444, 5.        ])"
      ]
     },
     "execution_count": 28,
     "metadata": {},
     "output_type": "execute_result"
    }
   ],
   "source": [
    "# to divide a line/scale to n division\n",
    "np.linspace(0, 5, 10) # a scale starts from 0 till 5, "
   ]
  },
  {
   "cell_type": "code",
   "execution_count": 29,
   "id": "5d1bf754",
   "metadata": {},
   "outputs": [
    {
     "data": {
      "text/plain": [
       "(array([0.        , 0.55555556, 1.11111111, 1.66666667, 2.22222222,\n",
       "        2.77777778, 3.33333333, 3.88888889, 4.44444444, 5.        ]),\n",
       " 0.5555555555555556)"
      ]
     },
     "execution_count": 29,
     "metadata": {},
     "output_type": "execute_result"
    }
   ],
   "source": [
    "# let's define step size in linspace\n",
    "np.linspace(0, 5, 10, retstep = True)"
   ]
  },
  {
   "cell_type": "markdown",
   "id": "2f9dc3e2",
   "metadata": {},
   "source": [
    "#### Notes:\n",
    "- step size is taken: 0.5555555555555556\n",
    "- Above linspace tries to produce 10 number on a equal step size and size of step is 0.555..."
   ]
  },
  {
   "cell_type": "markdown",
   "id": "91956f71",
   "metadata": {},
   "source": [
    "### visual explanation here"
   ]
  },
  {
   "cell_type": "markdown",
   "id": "8bce62b2",
   "metadata": {},
   "source": [
    "## 28. How to use logspace()?"
   ]
  },
  {
   "cell_type": "code",
   "execution_count": 31,
   "id": "7cbe6124",
   "metadata": {},
   "outputs": [
    {
     "data": {
      "text/plain": [
       "array([1.00000000e+00, 3.59381366e+00, 1.29154967e+01, 4.64158883e+01,\n",
       "       1.66810054e+02, 5.99484250e+02, 2.15443469e+03, 7.74263683e+03,\n",
       "       2.78255940e+04, 1.00000000e+05])"
      ]
     },
     "execution_count": 31,
     "metadata": {},
     "output_type": "execute_result"
    }
   ],
   "source": [
    "# logspace is similar to linspace\n",
    "np.logspace(0, 5, 10)"
   ]
  },
  {
   "cell_type": "markdown",
   "id": "f85c6e4d",
   "metadata": {},
   "source": [
    "#### Notes:\n",
    "- In case of logspace it will also produce numbers, for above case 10 numbers. And logspace will take the log of each number. Also it will produce numbers on an equal step size\n",
    "- By default function will give log of base 10"
   ]
  },
  {
   "cell_type": "markdown",
   "id": "5f0cecf7",
   "metadata": {},
   "source": [
    "## 29. How to use zeros()?"
   ]
  },
  {
   "cell_type": "code",
   "execution_count": 32,
   "id": "d77f9862",
   "metadata": {},
   "outputs": [
    {
     "data": {
      "text/plain": [
       "array([0., 0., 0., 0., 0.])"
      ]
     },
     "execution_count": 32,
     "metadata": {},
     "output_type": "execute_result"
    }
   ],
   "source": [
    "# use of zeros()\n",
    "np.zeros(5)  # zeros(5): read as zeros of 5. It will generate 1d array"
   ]
  },
  {
   "cell_type": "code",
   "execution_count": 33,
   "id": "e19ea2c2",
   "metadata": {},
   "outputs": [
    {
     "data": {
      "text/plain": [
       "1"
      ]
     },
     "execution_count": 33,
     "metadata": {},
     "output_type": "execute_result"
    }
   ],
   "source": [
    "# let's check dimension\n",
    "z_num = np.zeros(5)\n",
    "z_num.ndim"
   ]
  },
  {
   "cell_type": "code",
   "execution_count": 36,
   "id": "666f8864",
   "metadata": {},
   "outputs": [
    {
     "data": {
      "text/plain": [
       "array([[0., 0., 0., 0., 0., 0.],\n",
       "       [0., 0., 0., 0., 0., 0.],\n",
       "       [0., 0., 0., 0., 0., 0.],\n",
       "       [0., 0., 0., 0., 0., 0.],\n",
       "       [0., 0., 0., 0., 0., 0.]])"
      ]
     },
     "execution_count": 36,
     "metadata": {},
     "output_type": "execute_result"
    }
   ],
   "source": [
    "# create 2d array with zeros \n",
    "np.zeros((5, 6))  # 5 is number of rows & 6 is number of column"
   ]
  },
  {
   "cell_type": "code",
   "execution_count": 37,
   "id": "2259e68b",
   "metadata": {},
   "outputs": [
    {
     "data": {
      "text/plain": [
       "2"
      ]
     },
     "execution_count": 37,
     "metadata": {},
     "output_type": "execute_result"
    }
   ],
   "source": [
    "# let's check dimension\n",
    "z_num = np.zeros((5, 6))\n",
    "z_num.ndim"
   ]
  },
  {
   "cell_type": "markdown",
   "id": "8125f186",
   "metadata": {},
   "source": [
    "## 30. How to use ones()?"
   ]
  },
  {
   "cell_type": "code",
   "execution_count": 38,
   "id": "c80bf429",
   "metadata": {},
   "outputs": [
    {
     "data": {
      "text/plain": [
       "array([1., 1., 1., 1., 1.])"
      ]
     },
     "execution_count": 38,
     "metadata": {},
     "output_type": "execute_result"
    }
   ],
   "source": [
    "# use of ones()\n",
    "np.ones(5)  # ones(5): read as ones of 5. It will generate 1d array"
   ]
  },
  {
   "cell_type": "code",
   "execution_count": 39,
   "id": "00ee821d",
   "metadata": {},
   "outputs": [
    {
     "data": {
      "text/plain": [
       "array([[1., 1., 1., 1., 1., 1.],\n",
       "       [1., 1., 1., 1., 1., 1.],\n",
       "       [1., 1., 1., 1., 1., 1.],\n",
       "       [1., 1., 1., 1., 1., 1.],\n",
       "       [1., 1., 1., 1., 1., 1.]])"
      ]
     },
     "execution_count": 39,
     "metadata": {},
     "output_type": "execute_result"
    }
   ],
   "source": [
    "# create 2d array with ones \n",
    "np.ones((5, 6))  # 5 is number of rows & 6 is number of column"
   ]
  },
  {
   "cell_type": "code",
   "execution_count": 40,
   "id": "68b21fc6",
   "metadata": {},
   "outputs": [
    {
     "data": {
      "text/plain": [
       "2"
      ]
     },
     "execution_count": 40,
     "metadata": {},
     "output_type": "execute_result"
    }
   ],
   "source": [
    "# let's check dimension\n",
    "o_num = np.ones((5, 6))\n",
    "o_num.ndim"
   ]
  },
  {
   "cell_type": "code",
   "execution_count": 46,
   "id": "2ffd9ad5",
   "metadata": {},
   "outputs": [
    {
     "data": {
      "text/plain": [
       "array([[6., 6., 6., 6., 6., 6.],\n",
       "       [6., 6., 6., 6., 6., 6.],\n",
       "       [6., 6., 6., 6., 6., 6.],\n",
       "       [6., 6., 6., 6., 6., 6.],\n",
       "       [6., 6., 6., 6., 6., 6.]])"
      ]
     },
     "execution_count": 46,
     "metadata": {},
     "output_type": "execute_result"
    }
   ],
   "source": [
    "# add 5 to each elements in above array\n",
    "np.ones((5, 6)) + 5"
   ]
  },
  {
   "cell_type": "markdown",
   "id": "291bd7da",
   "metadata": {},
   "source": [
    "#### Notes:\n",
    "- We can perform any arithmetic operations with above arrays. I showed addition operation only. Try other opertaions\n",
    "- We have functions for generating 0s and 1s. But, numpy donot have functions which can generate 2, 3, 4....:(\n",
    "- To generate arrays with different numbers other than 0 or 1, Try to generate numbers with ones() and then multiply with the number we want to. See code below to understand more."
   ]
  },
  {
   "cell_type": "code",
   "execution_count": 47,
   "id": "773d2c24",
   "metadata": {},
   "outputs": [
    {
     "data": {
      "text/plain": [
       "array([[50., 50., 50., 50., 50., 50.],\n",
       "       [50., 50., 50., 50., 50., 50.],\n",
       "       [50., 50., 50., 50., 50., 50.],\n",
       "       [50., 50., 50., 50., 50., 50.],\n",
       "       [50., 50., 50., 50., 50., 50.]])"
      ]
     },
     "execution_count": 47,
     "metadata": {},
     "output_type": "execute_result"
    }
   ],
   "source": [
    "# for example, we want to create array with all values as 50\n",
    "np.ones((5, 6)) * 50"
   ]
  },
  {
   "cell_type": "markdown",
   "id": "e1cb2e47",
   "metadata": {},
   "source": [
    "## 31. How to create empty array?"
   ]
  },
  {
   "cell_type": "code",
   "execution_count": 48,
   "id": "c0a27860",
   "metadata": {},
   "outputs": [
    {
     "data": {
      "text/plain": [
       "array([[4.6495307e-310, 0.0000000e+000, 0.0000000e+000],\n",
       "       [0.0000000e+000, 0.0000000e+000, 0.0000000e+000]])"
      ]
     },
     "execution_count": 48,
     "metadata": {},
     "output_type": "execute_result"
    }
   ],
   "source": [
    "# create an empty array\n",
    "np.empty((2, 3))"
   ]
  },
  {
   "cell_type": "markdown",
   "id": "2133ca36",
   "metadata": {},
   "source": [
    "#### Notes:\n",
    "- **Q:** You might have a question; above array is holding zeroes and is also a number. How could we say an array is empty array by holding zeroes inside it?\n",
    "    \n",
    "    - **A:** The empty() function creates an **uninitialized array** of specified shape. The values of the elements in the array are not set and can contain any random data, which is why it is called \"uninitialized\". The values in the array can be anything and can contain random data that was left over in memory from previous computations. The purpose of this function is to create an array quickly without the need to initialize its values, as it is faster than using zeros() or ones()"
   ]
  },
  {
   "cell_type": "code",
   "execution_count": 49,
   "id": "b5337f90",
   "metadata": {},
   "outputs": [
    {
     "data": {
      "text/plain": [
       "2"
      ]
     },
     "execution_count": 49,
     "metadata": {},
     "output_type": "execute_result"
    }
   ],
   "source": [
    "len(np.empty((2, 3)))"
   ]
  },
  {
   "cell_type": "code",
   "execution_count": null,
   "id": "a80a14f0",
   "metadata": {},
   "outputs": [],
   "source": []
  }
 ],
 "metadata": {
  "kernelspec": {
   "display_name": "Python 3 (ipykernel)",
   "language": "python",
   "name": "python3"
  },
  "language_info": {
   "codemirror_mode": {
    "name": "ipython",
    "version": 3
   },
   "file_extension": ".py",
   "mimetype": "text/x-python",
   "name": "python",
   "nbconvert_exporter": "python",
   "pygments_lexer": "ipython3",
   "version": "3.7.3"
  }
 },
 "nbformat": 4,
 "nbformat_minor": 5
}
